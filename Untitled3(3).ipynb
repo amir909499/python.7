{
 "cells": [
  {
   "cell_type": "code",
   "execution_count": 1,
   "id": "88d2e24d-10a2-497d-a740-7a74d2a6fac9",
   "metadata": {},
   "outputs": [],
   "source": [
    "def a(x,b):\n",
    "    c=x[::-1]\n",
    "    if b in x:\n",
    "        return True\n",
    "    else:\n",
    "        return False"
   ]
  },
  {
   "cell_type": "code",
   "execution_count": 2,
   "id": "1f370a30-1e87-4905-b968-2703759fd3ce",
   "metadata": {},
   "outputs": [
    {
     "data": {
      "text/plain": [
       "False"
      ]
     },
     "execution_count": 2,
     "metadata": {},
     "output_type": "execute_result"
    }
   ],
   "source": [
    "a(\"am\",\"ami\")"
   ]
  },
  {
   "cell_type": "code",
   "execution_count": null,
   "id": "2987cd70-c81e-427f-8389-d115d2e7cba8",
   "metadata": {},
   "outputs": [],
   "source": []
  }
 ],
 "metadata": {
  "kernelspec": {
   "display_name": "Python 3 (ipykernel)",
   "language": "python",
   "name": "python3"
  },
  "language_info": {
   "codemirror_mode": {
    "name": "ipython",
    "version": 3
   },
   "file_extension": ".py",
   "mimetype": "text/x-python",
   "name": "python",
   "nbconvert_exporter": "python",
   "pygments_lexer": "ipython3",
   "version": "3.8.1"
  }
 },
 "nbformat": 4,
 "nbformat_minor": 5
}
