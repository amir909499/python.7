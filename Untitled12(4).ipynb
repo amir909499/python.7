{
 "cells": [
  {
   "cell_type": "code",
   "execution_count": 1,
   "id": "49b24476-0dca-4ed8-aca9-5e9e67731010",
   "metadata": {},
   "outputs": [
    {
     "name": "stdout",
     "output_type": "stream",
     "text": [
      "False\n",
      "False\n"
     ]
    }
   ],
   "source": [
    "a=[\"am\",\"ami\"]\n",
    "c=a[::-1]\n",
    "for i in c:\n",
    "    if(i==c):\n",
    "        print (True)\n",
    "\n",
    "    else:\n",
    "        print(False)"
   ]
  },
  {
   "cell_type": "code",
   "execution_count": null,
   "id": "b19d6d94-33b5-4686-a2e3-bd39bea7c25f",
   "metadata": {},
   "outputs": [],
   "source": []
  }
 ],
 "metadata": {
  "kernelspec": {
   "display_name": "Python 3 (ipykernel)",
   "language": "python",
   "name": "python3"
  },
  "language_info": {
   "codemirror_mode": {
    "name": "ipython",
    "version": 3
   },
   "file_extension": ".py",
   "mimetype": "text/x-python",
   "name": "python",
   "nbconvert_exporter": "python",
   "pygments_lexer": "ipython3",
   "version": "3.8.1"
  }
 },
 "nbformat": 4,
 "nbformat_minor": 5
}
